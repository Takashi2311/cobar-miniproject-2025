{
 "cells": [
  {
   "cell_type": "code",
   "execution_count": 1,
   "metadata": {},
   "outputs": [
    {
     "name": "stdout",
     "output_type": "stream",
     "text": [
      "1\n"
     ]
    },
    {
     "ename": "KeyboardInterrupt",
     "evalue": "",
     "output_type": "error",
     "traceback": [
      "\u001b[31m---------------------------------------------------------------------------\u001b[39m",
      "\u001b[31mKeyboardInterrupt\u001b[39m                         Traceback (most recent call last)",
      "\u001b[36mCell\u001b[39m\u001b[36m \u001b[39m\u001b[32mIn[1]\u001b[39m\u001b[32m, line 3\u001b[39m\n\u001b[32m      1\u001b[39m \u001b[38;5;28;01mimport\u001b[39;00m\u001b[38;5;250m \u001b[39m\u001b[34;01margparse\u001b[39;00m\n\u001b[32m      2\u001b[39m \u001b[38;5;28mprint\u001b[39m(\u001b[32m1\u001b[39m)\n\u001b[32m----> \u001b[39m\u001b[32m3\u001b[39m \u001b[38;5;28;01mimport\u001b[39;00m\u001b[38;5;250m \u001b[39m\u001b[34;01mcv2\u001b[39;00m\n\u001b[32m      4\u001b[39m \u001b[38;5;28mprint\u001b[39m(\u001b[32m2\u001b[39m)\n\u001b[32m      5\u001b[39m \u001b[38;5;28;01mimport\u001b[39;00m\u001b[38;5;250m \u001b[39m\u001b[34;01mtqdm\u001b[39;00m\n",
      "\u001b[36mFile \u001b[39m\u001b[32m/opt/miniconda3/envs/flygym/lib/python3.12/site-packages/cv2/__init__.py:11\u001b[39m\n\u001b[32m      8\u001b[39m __all__ = []\n\u001b[32m     10\u001b[39m \u001b[38;5;28;01mtry\u001b[39;00m:\n\u001b[32m---> \u001b[39m\u001b[32m11\u001b[39m     \u001b[38;5;28;01mimport\u001b[39;00m\u001b[38;5;250m \u001b[39m\u001b[34;01mnumpy\u001b[39;00m\n\u001b[32m     12\u001b[39m     \u001b[38;5;28;01mimport\u001b[39;00m\u001b[38;5;250m \u001b[39m\u001b[34;01mnumpy\u001b[39;00m\u001b[34;01m.\u001b[39;00m\u001b[34;01mcore\u001b[39;00m\u001b[34;01m.\u001b[39;00m\u001b[34;01mmultiarray\u001b[39;00m\n\u001b[32m     13\u001b[39m \u001b[38;5;28;01mexcept\u001b[39;00m \u001b[38;5;167;01mImportError\u001b[39;00m:\n",
      "\u001b[36mFile \u001b[39m\u001b[32m/opt/miniconda3/envs/flygym/lib/python3.12/site-packages/numpy/__init__.py:157\u001b[39m\n\u001b[32m    155\u001b[39m \u001b[38;5;28;01mfrom\u001b[39;00m\u001b[38;5;250m \u001b[39m\u001b[34;01m.\u001b[39;00m\u001b[38;5;250m \u001b[39m\u001b[38;5;28;01mimport\u001b[39;00m fft\n\u001b[32m    156\u001b[39m \u001b[38;5;28;01mfrom\u001b[39;00m\u001b[38;5;250m \u001b[39m\u001b[34;01m.\u001b[39;00m\u001b[38;5;250m \u001b[39m\u001b[38;5;28;01mimport\u001b[39;00m polynomial\n\u001b[32m--> \u001b[39m\u001b[32m157\u001b[39m \u001b[38;5;28;01mfrom\u001b[39;00m\u001b[38;5;250m \u001b[39m\u001b[34;01m.\u001b[39;00m\u001b[38;5;250m \u001b[39m\u001b[38;5;28;01mimport\u001b[39;00m random\n\u001b[32m    158\u001b[39m \u001b[38;5;28;01mfrom\u001b[39;00m\u001b[38;5;250m \u001b[39m\u001b[34;01m.\u001b[39;00m\u001b[38;5;250m \u001b[39m\u001b[38;5;28;01mimport\u001b[39;00m ctypeslib\n\u001b[32m    159\u001b[39m \u001b[38;5;28;01mfrom\u001b[39;00m\u001b[38;5;250m \u001b[39m\u001b[34;01m.\u001b[39;00m\u001b[38;5;250m \u001b[39m\u001b[38;5;28;01mimport\u001b[39;00m ma\n",
      "\u001b[36mFile \u001b[39m\u001b[32m/opt/miniconda3/envs/flygym/lib/python3.12/site-packages/numpy/random/__init__.py:180\u001b[39m\n\u001b[32m    126\u001b[39m __all__ = [\n\u001b[32m    127\u001b[39m     \u001b[33m'\u001b[39m\u001b[33mbeta\u001b[39m\u001b[33m'\u001b[39m,\n\u001b[32m    128\u001b[39m     \u001b[33m'\u001b[39m\u001b[33mbinomial\u001b[39m\u001b[33m'\u001b[39m,\n\u001b[32m   (...)\u001b[39m\u001b[32m    176\u001b[39m     \u001b[33m'\u001b[39m\u001b[33mzipf\u001b[39m\u001b[33m'\u001b[39m,\n\u001b[32m    177\u001b[39m ]\n\u001b[32m    179\u001b[39m \u001b[38;5;66;03m# add these for module-freeze analysis (like PyInstaller)\u001b[39;00m\n\u001b[32m--> \u001b[39m\u001b[32m180\u001b[39m \u001b[38;5;28;01mfrom\u001b[39;00m\u001b[38;5;250m \u001b[39m\u001b[34;01m.\u001b[39;00m\u001b[38;5;250m \u001b[39m\u001b[38;5;28;01mimport\u001b[39;00m _pickle\n\u001b[32m    181\u001b[39m \u001b[38;5;28;01mfrom\u001b[39;00m\u001b[38;5;250m \u001b[39m\u001b[34;01m.\u001b[39;00m\u001b[38;5;250m \u001b[39m\u001b[38;5;28;01mimport\u001b[39;00m _common\n\u001b[32m    182\u001b[39m \u001b[38;5;28;01mfrom\u001b[39;00m\u001b[38;5;250m \u001b[39m\u001b[34;01m.\u001b[39;00m\u001b[38;5;250m \u001b[39m\u001b[38;5;28;01mimport\u001b[39;00m _bounded_integers\n",
      "\u001b[36mFile \u001b[39m\u001b[32m/opt/miniconda3/envs/flygym/lib/python3.12/site-packages/numpy/random/_pickle.py:1\u001b[39m\n\u001b[32m----> \u001b[39m\u001b[32m1\u001b[39m \u001b[38;5;28;01mfrom\u001b[39;00m\u001b[38;5;250m \u001b[39m\u001b[34;01m.\u001b[39;00m\u001b[34;01mmtrand\u001b[39;00m\u001b[38;5;250m \u001b[39m\u001b[38;5;28;01mimport\u001b[39;00m RandomState\n\u001b[32m      2\u001b[39m \u001b[38;5;28;01mfrom\u001b[39;00m\u001b[38;5;250m \u001b[39m\u001b[34;01m.\u001b[39;00m\u001b[34;01m_philox\u001b[39;00m\u001b[38;5;250m \u001b[39m\u001b[38;5;28;01mimport\u001b[39;00m Philox\n\u001b[32m      3\u001b[39m \u001b[38;5;28;01mfrom\u001b[39;00m\u001b[38;5;250m \u001b[39m\u001b[34;01m.\u001b[39;00m\u001b[34;01m_pcg64\u001b[39;00m\u001b[38;5;250m \u001b[39m\u001b[38;5;28;01mimport\u001b[39;00m PCG64, PCG64DXSM\n",
      "\u001b[36mFile \u001b[39m\u001b[32mnumpy/random/mtrand.pyx:19\u001b[39m, in \u001b[36minit numpy.random.mtrand\u001b[39m\u001b[34m()\u001b[39m\n",
      "\u001b[36mFile \u001b[39m\u001b[32m<frozen importlib._bootstrap>:645\u001b[39m, in \u001b[36mparent\u001b[39m\u001b[34m(self)\u001b[39m\n",
      "\u001b[31mKeyboardInterrupt\u001b[39m: "
     ]
    }
   ],
   "source": [
    "import argparse\n",
    "print(1)\n",
    "import cv2\n",
    "print(2)\n",
    "import tqdm\n",
    "print(3)\n",
    "from cobar_miniproject import levels\n",
    "print(4)\n",
    "from cobar_miniproject.keyboard_controller import KeyBoardController\n",
    "print(5)\n",
    "from cobar_miniproject.cobar_fly import CobarFly\n",
    "print(6)\n",
    "from cobar_miniproject.vision import (\n",
    "    get_fly_vision,\n",
    "    get_fly_vision_raw,\n",
    "    render_image_with_vision,\n",
    ")\n",
    "print(7)\n",
    "from flygym import YawOnlyCamera, SingleFlySimulation\n",
    "print(8)\n",
    "from flygym.arena import FlatTerrain\n",
    "print(9)"
   ]
  },
  {
   "cell_type": "code",
   "execution_count": 2,
   "metadata": {},
   "outputs": [],
   "source": [
    "level = 0\n",
    "seed = 42"
   ]
  },
  {
   "cell_type": "code",
   "execution_count": 7,
   "metadata": {},
   "outputs": [
    {
     "name": "stderr",
     "output_type": "stream",
     "text": [
      "WARNING:pynput.keyboard.Listener:This process is not trusted! Input event monitoring will not be possible until it is added to accessibility clients.\n"
     ]
    },
    {
     "name": "stdout",
     "output_type": "stream",
     "text": [
      "Starting key listener\n"
     ]
    },
    {
     "name": "stderr",
     "output_type": "stream",
     "text": [
      "running simulation: 1790it [00:05, 341.92it/s]\n"
     ]
    },
    {
     "name": "stdout",
     "output_type": "stream",
     "text": [
      "Simulation finished\n"
     ]
    }
   ],
   "source": [
    "# OPTIONS\n",
    "# what to display as the simulation is running\n",
    "ONLY_CAMERA = 0\n",
    "WITH_FLY_VISION = 1\n",
    "WITH_RAW_VISION = 2\n",
    "\n",
    "VISUALISATION_MODE = WITH_FLY_VISION\n",
    "\n",
    "timestep = 1e-4\n",
    "\n",
    "# you can pass in parameters to enable different senses here\n",
    "fly = CobarFly(debug=False, enable_vision=True, render_raw_vision=False)\n",
    "\n",
    "if level <= -1:\n",
    "    level_arena = FlatTerrain()\n",
    "elif level <= 1:\n",
    "    # levels 0 and 1 don't need the timestep\n",
    "    level_arena = levels[level](fly=fly, seed=seed)\n",
    "else:\n",
    "    # levels 2-4 need the timestep\n",
    "    level_arena = levels[level](fly=fly, timestep=timestep, seed=seed)\n",
    "\n",
    "cam = YawOnlyCamera(\n",
    "    attachment_point=fly.model.worldbody,\n",
    "    camera_name=\"camera_back_track_game\",\n",
    "    targeted_fly_names=[fly.name],\n",
    "    play_speed=0.2,\n",
    ")\n",
    "\n",
    "sim = SingleFlySimulation(\n",
    "    fly=fly,\n",
    "    cameras=[cam],\n",
    "    timestep=timestep,\n",
    "    arena=level_arena,\n",
    ")\n",
    "\n",
    "controller = KeyBoardController(timestep=timestep, seed=seed)\n",
    "\n",
    "# run cpg simulation\n",
    "obs, info = sim.reset()\n",
    "obs_hist = []\n",
    "info_hist = []\n",
    "\n",
    "# create window\n",
    "cv2.namedWindow(\"Simulation\", cv2.WINDOW_NORMAL)\n",
    "\n",
    "with tqdm.tqdm(desc=\"running simulation\") as progress_bar:\n",
    "    while True:\n",
    "        # Get observations\n",
    "        obs, reward, terminated, truncated, info = sim.step(\n",
    "            controller.get_actions(obs)\n",
    "        )\n",
    "        if controller.done_level(obs):\n",
    "            # finish the path integration level\n",
    "            break\n",
    "\n",
    "        if not obs[\"vision_updated\"]:\n",
    "            if \"vision\" in obs:\n",
    "                del obs[\"vision\"]\n",
    "            if \"raw_vision\" in obs:\n",
    "                del obs[\"raw_vision\"]\n",
    "        obs_hist.append(obs)\n",
    "        info_hist.append(info)\n",
    "\n",
    "        rendered_img = sim.render()[0]\n",
    "        if rendered_img is not None:\n",
    "            if VISUALISATION_MODE == WITH_FLY_VISION:\n",
    "                rendered_img = render_image_with_vision(\n",
    "                    rendered_img, get_fly_vision(fly), obs[\"odor_intensity\"],\n",
    "                )\n",
    "            elif VISUALISATION_MODE == WITH_RAW_VISION:\n",
    "                rendered_img = render_image_with_vision(\n",
    "                    rendered_img, get_fly_vision_raw(fly), obs[\"odor_intensity\"],\n",
    "                )\n",
    "            rendered_img = cv2.cvtColor(rendered_img, cv2.COLOR_BGR2RGB)\n",
    "            cv2.imshow(\"Simulation\", rendered_img)\n",
    "            cv2.waitKey(1)\n",
    "\n",
    "        if controller.quit:\n",
    "            print(\"Simulation terminated by user.\")\n",
    "            break\n",
    "        if hasattr(level_arena, \"quit\") and level_arena.quit:\n",
    "            print(\"Target reached. Simulation terminated.\")\n",
    "            break\n",
    "\n",
    "        progress_bar.update()\n",
    "\n",
    "print(\"Simulation finished\")\n",
    "\n",
    "# Save video\n",
    "cam.save_video(\"./outputs/hybrid_controller.mp4\", 0)\n",
    "cv2.destroyAllWindows()\n"
   ]
  },
  {
   "cell_type": "code",
   "execution_count": null,
   "metadata": {},
   "outputs": [],
   "source": []
  }
 ],
 "metadata": {
  "kernelspec": {
   "display_name": "flygym",
   "language": "python",
   "name": "python3"
  },
  "language_info": {
   "codemirror_mode": {
    "name": "ipython",
    "version": 3
   },
   "file_extension": ".py",
   "mimetype": "text/x-python",
   "name": "python",
   "nbconvert_exporter": "python",
   "pygments_lexer": "ipython3",
   "version": "3.12.9"
  }
 },
 "nbformat": 4,
 "nbformat_minor": 2
}
