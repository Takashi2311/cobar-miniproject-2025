{
 "cells": [
  {
   "cell_type": "code",
   "execution_count": 1,
   "metadata": {},
   "outputs": [
    {
     "name": "stdout",
     "output_type": "stream",
     "text": [
      "65\n"
     ]
    }
   ],
   "source": [
    "import random\n",
    "\n",
    "excluded = {45, 25, 38}\n",
    "candidates = [i for i in range(1, 101) if i not in excluded]\n",
    "seed = random.choice(candidates) # random seed generator\n",
    "print(seed)\n"
   ]
  },
  {
   "cell_type": "code",
   "execution_count": 3,
   "metadata": {},
   "outputs": [
    {
     "name": "stdout",
     "output_type": "stream",
     "text": [
      "/opt/miniconda3/envs/flygym/bin/python\n"
     ]
    }
   ],
   "source": [
    "!which python"
   ]
  },
  {
   "cell_type": "code",
   "execution_count": 6,
   "metadata": {},
   "outputs": [
    {
     "name": "stderr",
     "output_type": "stream",
     "text": [
      " 35%|███▍      | 10351/30000 [01:04<02:02, 160.04it/s]\n"
     ]
    },
    {
     "name": "stdout",
     "output_type": "stream",
     "text": [
      "Target reached. Simulation terminated.\n"
     ]
    }
   ],
   "source": [
    "from pathlib import Path\n",
    "from submission import Controller\n",
    "from cobar_miniproject.cobar_fly import CobarFly\n",
    "from cobar_miniproject import levels\n",
    "from flygym import SingleFlySimulation, Camera\n",
    "from tqdm import trange\n",
    "\n",
    "timestep = 1e-4\n",
    "debug = False\n",
    "level = 3\n",
    "#seed = 38\n",
    "\n",
    "fly = CobarFly(\n",
    "    debug=debug,\n",
    "    enable_vision=True,\n",
    "    render_raw_vision=True,\n",
    ")\n",
    "\n",
    "if level <= 1:\n",
    "    arena = levels[level](fly=fly, seed=seed)\n",
    "else:\n",
    "    arena = levels[level](fly=fly, timestep=timestep, seed=seed)\n",
    "\n",
    "cam_params = {\"pos\": (0, 0, 80)}\n",
    "timestep = 1e-4\n",
    "\n",
    "cam = Camera(\n",
    "    attachment_point=arena.root_element.worldbody,\n",
    "    camera_name=\"camera_top_zoomout\",\n",
    "    targeted_fly_names=[fly.name],\n",
    "    camera_parameters=cam_params,\n",
    "    play_speed=0.2,\n",
    ")\n",
    "\n",
    "sim = SingleFlySimulation(\n",
    "    fly=fly,\n",
    "    cameras=[cam],\n",
    "    timestep=timestep,\n",
    "    arena=arena,\n",
    ")\n",
    "\n",
    "controller = Controller(timestep=timestep)\n",
    "\n",
    "# run cpg simulation\n",
    "obs, info = sim.reset()\n",
    "\n",
    "max_steps = 30000\n",
    "\n",
    "for i in trange(max_steps):\n",
    "    # Get observations\n",
    "    obs, reward, terminated, truncated, info = sim.step(controller.get_actions(obs))\n",
    "    sim.render()\n",
    "    if controller.done_level(obs):\n",
    "        # finish the path integration level\n",
    "        break\n",
    "\n",
    "    # if not obs[\"vision_updated\"]:\n",
    "    #     if \"vision\" in obs:\n",
    "    #         del obs[\"vision\"]\n",
    "    #     if \"raw_vision\" in obs:\n",
    "    #         del obs[\"raw_vision\"]\n",
    "\n",
    "    if hasattr(controller, \"quit\") and controller.quit:\n",
    "        print(\"Simulation terminated by user.\")\n",
    "        break\n",
    "    if hasattr(arena, \"quit\") and arena.quit:\n",
    "        print(\"Target reached. Simulation terminated.\")\n",
    "        break\n",
    "\n",
    "# Save video\n",
    "save_path = Path(\"outputs\") / f\"level{level}_seed{seed}.mp4\"\n",
    "save_path.parent.mkdir(parents=True, exist_ok=True)\n",
    "cam.save_video(save_path, stabilization_time=0)\n",
    "\n"
   ]
  }
 ],
 "metadata": {
  "kernelspec": {
   "display_name": "flygym",
   "language": "python",
   "name": "python3"
  },
  "language_info": {
   "codemirror_mode": {
    "name": "ipython",
    "version": 3
   },
   "file_extension": ".py",
   "mimetype": "text/x-python",
   "name": "python",
   "nbconvert_exporter": "python",
   "pygments_lexer": "ipython3",
   "version": "3.12.9"
  }
 },
 "nbformat": 4,
 "nbformat_minor": 2
}
