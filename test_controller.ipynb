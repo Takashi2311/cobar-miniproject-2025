{
 "cells": [
  {
   "cell_type": "code",
   "execution_count": null,
   "metadata": {},
   "outputs": [
    {
     "name": "stdout",
     "output_type": "stream",
     "text": [
      "19\n"
     ]
    }
   ],
   "source": [
    "import random\n",
    "\n",
    "excluded = {45, 25, 38}\n",
    "candidates = [i for i in range(1, 101) if i not in excluded]\n",
    "seed = random.choice(candidates) # random seed generator\n",
    "print(seed)\n"
   ]
  },
  {
   "cell_type": "code",
   "execution_count": 3,
   "metadata": {},
   "outputs": [
    {
     "name": "stderr",
     "output_type": "stream",
     "text": [
      "  0%|          | 8/20000 [00:00<04:12, 79.24it/s]"
     ]
    },
    {
     "name": "stdout",
     "output_type": "stream",
     "text": [
      "Control signal: [1. 1.]\n",
      "Left black ratio: 0.2843674879807692\n",
      "Right black ratio: 0.28970102163461536\n",
      "Black diff: 0.005333533653846145\n",
      "Black ratio: 0.2870342548076923\n"
     ]
    },
    {
     "name": "stderr",
     "output_type": "stream",
     "text": [
      "  3%|▎         | 541/20000 [00:02<01:30, 214.27it/s]"
     ]
    },
    {
     "name": "stdout",
     "output_type": "stream",
     "text": [
      "Control signal: [0.2 1. ]\n",
      "Left black ratio: 0.2843674879807692\n",
      "Right black ratio: 0.28970102163461536\n",
      "Black diff: 0.005333533653846145\n",
      "Black ratio: 0.2870342548076923\n"
     ]
    },
    {
     "name": "stderr",
     "output_type": "stream",
     "text": [
      "  5%|▌         | 1048/20000 [00:04<01:19, 237.28it/s]"
     ]
    },
    {
     "name": "stdout",
     "output_type": "stream",
     "text": [
      "Control signal: [0.21769746 1.        ]\n",
      "Left black ratio: 0.2843674879807692\n",
      "Right black ratio: 0.28970102163461536\n",
      "Black diff: 0.005333533653846145\n",
      "Black ratio: 0.2870342548076923\n"
     ]
    },
    {
     "name": "stderr",
     "output_type": "stream",
     "text": [
      "  8%|▊         | 1526/20000 [00:06<01:22, 224.46it/s]"
     ]
    },
    {
     "name": "stdout",
     "output_type": "stream",
     "text": [
      "Control signal: [1.  0.2]\n",
      "Left black ratio: 0.2843674879807692\n",
      "Right black ratio: 0.28970102163461536\n",
      "Black diff: 0.005333533653846145\n",
      "Black ratio: 0.2870342548076923\n"
     ]
    },
    {
     "name": "stderr",
     "output_type": "stream",
     "text": [
      " 10%|█         | 2019/20000 [00:09<01:30, 198.71it/s]"
     ]
    },
    {
     "name": "stdout",
     "output_type": "stream",
     "text": [
      "Control signal: [1.  0.2]\n",
      "Left black ratio: 0.2843674879807692\n",
      "Right black ratio: 0.28970102163461536\n",
      "Black diff: 0.005333533653846145\n",
      "Black ratio: 0.2870342548076923\n"
     ]
    },
    {
     "name": "stderr",
     "output_type": "stream",
     "text": [
      " 13%|█▎        | 2518/20000 [00:11<01:20, 216.68it/s]"
     ]
    },
    {
     "name": "stdout",
     "output_type": "stream",
     "text": [
      "Control signal: [1.  0.2]\n",
      "Left black ratio: 0.2843674879807692\n",
      "Right black ratio: 0.28970102163461536\n",
      "Black diff: 0.005333533653846145\n",
      "Black ratio: 0.2870342548076923\n"
     ]
    },
    {
     "name": "stderr",
     "output_type": "stream",
     "text": [
      " 15%|█▌        | 3043/20000 [00:14<01:15, 224.94it/s]"
     ]
    },
    {
     "name": "stdout",
     "output_type": "stream",
     "text": [
      "Control signal: [0.26480607 1.        ]\n",
      "Left black ratio: 0.2843674879807692\n",
      "Right black ratio: 0.28970102163461536\n",
      "Black diff: 0.005333533653846145\n",
      "Black ratio: 0.2870342548076923\n"
     ]
    },
    {
     "name": "stderr",
     "output_type": "stream",
     "text": [
      " 18%|█▊        | 3527/20000 [00:16<01:13, 223.19it/s]"
     ]
    },
    {
     "name": "stdout",
     "output_type": "stream",
     "text": [
      "Control signal: [0.23064495 1.        ]\n",
      "Left black ratio: 0.2843674879807692\n",
      "Right black ratio: 0.28970102163461536\n",
      "Black diff: 0.005333533653846145\n",
      "Black ratio: 0.2870342548076923\n"
     ]
    },
    {
     "name": "stderr",
     "output_type": "stream",
     "text": [
      " 20%|██        | 4030/20000 [00:18<01:13, 217.47it/s]"
     ]
    },
    {
     "name": "stdout",
     "output_type": "stream",
     "text": [
      "Control signal: [1.         0.20000008]\n",
      "Left black ratio: 0.2843674879807692\n",
      "Right black ratio: 0.28970102163461536\n",
      "Black diff: 0.005333533653846145\n",
      "Black ratio: 0.2870342548076923\n"
     ]
    },
    {
     "name": "stderr",
     "output_type": "stream",
     "text": [
      " 23%|██▎       | 4530/20000 [00:20<01:06, 232.32it/s]"
     ]
    },
    {
     "name": "stdout",
     "output_type": "stream",
     "text": [
      "Control signal: [1.         0.30665919]\n",
      "Left black ratio: 0.2843674879807692\n",
      "Right black ratio: 0.28970102163461536\n",
      "Black diff: 0.005333533653846145\n",
      "Black ratio: 0.2870342548076923\n"
     ]
    },
    {
     "name": "stderr",
     "output_type": "stream",
     "text": [
      " 25%|██▌       | 5019/20000 [00:23<01:11, 209.36it/s]"
     ]
    },
    {
     "name": "stdout",
     "output_type": "stream",
     "text": [
      "Control signal: [0.2 1. ]\n",
      "Left black ratio: 0.2843674879807692\n",
      "Right black ratio: 0.28970102163461536\n",
      "Black diff: 0.005333533653846145\n",
      "Black ratio: 0.2870342548076923\n"
     ]
    },
    {
     "name": "stderr",
     "output_type": "stream",
     "text": [
      " 28%|██▊       | 5544/20000 [00:25<01:04, 223.34it/s]"
     ]
    },
    {
     "name": "stdout",
     "output_type": "stream",
     "text": [
      "Control signal: [0.20000018 1.        ]\n",
      "Left black ratio: 0.2843674879807692\n",
      "Right black ratio: 0.28970102163461536\n",
      "Black diff: 0.005333533653846145\n",
      "Black ratio: 0.2870342548076923\n"
     ]
    },
    {
     "name": "stderr",
     "output_type": "stream",
     "text": [
      " 30%|███       | 6034/20000 [00:28<01:05, 212.15it/s]"
     ]
    },
    {
     "name": "stdout",
     "output_type": "stream",
     "text": [
      "Control signal: [1.  0.2]\n",
      "Left black ratio: 0.2843674879807692\n",
      "Right black ratio: 0.28970102163461536\n",
      "Black diff: 0.005333533653846145\n",
      "Black ratio: 0.2870342548076923\n"
     ]
    },
    {
     "name": "stderr",
     "output_type": "stream",
     "text": [
      " 33%|███▎      | 6534/20000 [00:30<01:01, 217.43it/s]"
     ]
    },
    {
     "name": "stdout",
     "output_type": "stream",
     "text": [
      "Red object detected — retreating.\n"
     ]
    },
    {
     "name": "stderr",
     "output_type": "stream",
     "text": [
      " 35%|███▌      | 7020/20000 [00:32<01:44, 123.82it/s]"
     ]
    },
    {
     "name": "stdout",
     "output_type": "stream",
     "text": [
      "Red object detected — retreating.\n"
     ]
    },
    {
     "name": "stderr",
     "output_type": "stream",
     "text": [
      " 38%|███▊      | 7534/20000 [00:35<00:57, 215.27it/s]"
     ]
    },
    {
     "name": "stdout",
     "output_type": "stream",
     "text": [
      "Red object detected — retreating.\n"
     ]
    },
    {
     "name": "stderr",
     "output_type": "stream",
     "text": [
      " 40%|████      | 8024/20000 [00:37<00:54, 221.24it/s]"
     ]
    },
    {
     "name": "stdout",
     "output_type": "stream",
     "text": [
      "Red object detected — retreating.\n"
     ]
    },
    {
     "name": "stderr",
     "output_type": "stream",
     "text": [
      " 43%|████▎     | 8517/20000 [00:40<01:07, 170.28it/s]"
     ]
    },
    {
     "name": "stdout",
     "output_type": "stream",
     "text": [
      "Control signal: [-1.  -0.5]\n",
      "Left black ratio: 0.2843674879807692\n",
      "Right black ratio: 0.28970102163461536\n",
      "Black diff: 0.005333533653846145\n",
      "Black ratio: 0.2870342548076923\n"
     ]
    },
    {
     "name": "stderr",
     "output_type": "stream",
     "text": [
      " 45%|████▌     | 9019/20000 [00:45<01:34, 116.81it/s]"
     ]
    },
    {
     "name": "stdout",
     "output_type": "stream",
     "text": [
      "Control signal: [0.2 1. ]\n",
      "Left black ratio: 0.2843674879807692\n",
      "Right black ratio: 0.28970102163461536\n",
      "Black diff: 0.005333533653846145\n",
      "Black ratio: 0.2870342548076923\n"
     ]
    },
    {
     "name": "stderr",
     "output_type": "stream",
     "text": [
      " 48%|████▊     | 9530/20000 [00:48<00:48, 217.28it/s]"
     ]
    },
    {
     "name": "stdout",
     "output_type": "stream",
     "text": [
      "Control signal: [0.20000006 1.        ]\n",
      "Left black ratio: 0.2843674879807692\n",
      "Right black ratio: 0.28970102163461536\n",
      "Black diff: 0.005333533653846145\n",
      "Black ratio: 0.2870342548076923\n"
     ]
    },
    {
     "name": "stderr",
     "output_type": "stream",
     "text": [
      " 50%|█████     | 10020/20000 [00:50<00:55, 179.35it/s]"
     ]
    },
    {
     "name": "stdout",
     "output_type": "stream",
     "text": [
      "Control signal: [1.  0.2]\n",
      "Left black ratio: 0.2843674879807692\n",
      "Right black ratio: 0.28970102163461536\n",
      "Black diff: 0.005333533653846145\n",
      "Black ratio: 0.2870342548076923\n"
     ]
    },
    {
     "name": "stderr",
     "output_type": "stream",
     "text": [
      " 53%|█████▎    | 10524/20000 [00:53<00:48, 196.55it/s]"
     ]
    },
    {
     "name": "stdout",
     "output_type": "stream",
     "text": [
      "Control signal: [1.  0.2]\n",
      "Left black ratio: 0.2843674879807692\n",
      "Right black ratio: 0.28970102163461536\n",
      "Black diff: 0.005333533653846145\n",
      "Black ratio: 0.2870342548076923\n"
     ]
    },
    {
     "name": "stderr",
     "output_type": "stream",
     "text": [
      " 55%|█████▌    | 11023/20000 [00:55<00:41, 214.40it/s]"
     ]
    },
    {
     "name": "stdout",
     "output_type": "stream",
     "text": [
      "Control signal: [0.2 1. ]\n",
      "Left black ratio: 0.2843674879807692\n",
      "Right black ratio: 0.28970102163461536\n",
      "Black diff: 0.005333533653846145\n",
      "Black ratio: 0.2870342548076923\n"
     ]
    },
    {
     "name": "stderr",
     "output_type": "stream",
     "text": [
      " 58%|█████▊    | 11531/20000 [00:58<00:41, 202.24it/s]"
     ]
    },
    {
     "name": "stdout",
     "output_type": "stream",
     "text": [
      "Control signal: [0.2 1. ]\n",
      "Left black ratio: 0.2843674879807692\n",
      "Right black ratio: 0.28970102163461536\n",
      "Black diff: 0.005333533653846145\n",
      "Black ratio: 0.2870342548076923\n"
     ]
    },
    {
     "name": "stderr",
     "output_type": "stream",
     "text": [
      " 60%|██████    | 12022/20000 [01:00<00:44, 180.09it/s]"
     ]
    },
    {
     "name": "stdout",
     "output_type": "stream",
     "text": [
      "Control signal: [1.  0.2]\n",
      "Left black ratio: 0.2843674879807692\n",
      "Right black ratio: 0.28970102163461536\n",
      "Black diff: 0.005333533653846145\n",
      "Black ratio: 0.2870342548076923\n"
     ]
    },
    {
     "name": "stderr",
     "output_type": "stream",
     "text": [
      " 63%|██████▎   | 12525/20000 [01:03<00:39, 191.22it/s]"
     ]
    },
    {
     "name": "stdout",
     "output_type": "stream",
     "text": [
      "Red object detected — retreating.\n"
     ]
    },
    {
     "name": "stderr",
     "output_type": "stream",
     "text": [
      " 65%|██████▌   | 13023/20000 [01:06<00:41, 168.69it/s]"
     ]
    },
    {
     "name": "stdout",
     "output_type": "stream",
     "text": [
      "Red object detected — retreating.\n"
     ]
    },
    {
     "name": "stderr",
     "output_type": "stream",
     "text": [
      " 68%|██████▊   | 13524/20000 [01:09<00:33, 193.79it/s]"
     ]
    },
    {
     "name": "stdout",
     "output_type": "stream",
     "text": [
      "Red object detected — retreating.\n"
     ]
    },
    {
     "name": "stderr",
     "output_type": "stream",
     "text": [
      " 70%|███████   | 14035/20000 [01:11<00:28, 207.76it/s]"
     ]
    },
    {
     "name": "stdout",
     "output_type": "stream",
     "text": [
      "Red object detected — retreating.\n"
     ]
    },
    {
     "name": "stderr",
     "output_type": "stream",
     "text": [
      " 73%|███████▎  | 14522/20000 [01:14<00:26, 207.28it/s]"
     ]
    },
    {
     "name": "stdout",
     "output_type": "stream",
     "text": [
      "Control signal: [-0.5 -1. ]\n",
      "Left black ratio: 0.2843674879807692\n",
      "Right black ratio: 0.28970102163461536\n",
      "Black diff: 0.005333533653846145\n",
      "Black ratio: 0.2870342548076923\n"
     ]
    },
    {
     "name": "stderr",
     "output_type": "stream",
     "text": [
      " 75%|███████▌  | 15040/20000 [01:16<00:24, 201.39it/s]"
     ]
    },
    {
     "name": "stdout",
     "output_type": "stream",
     "text": [
      "Control signal: [1.         0.25800461]\n",
      "Left black ratio: 0.2843674879807692\n",
      "Right black ratio: 0.28970102163461536\n",
      "Black diff: 0.005333533653846145\n",
      "Black ratio: 0.2870342548076923\n"
     ]
    },
    {
     "name": "stderr",
     "output_type": "stream",
     "text": [
      " 78%|███████▊  | 15527/20000 [01:19<00:22, 196.92it/s]"
     ]
    },
    {
     "name": "stdout",
     "output_type": "stream",
     "text": [
      "Control signal: [0.2 1. ]\n",
      "Left black ratio: 0.2843674879807692\n",
      "Right black ratio: 0.28970102163461536\n",
      "Black diff: 0.005333533653846145\n",
      "Black ratio: 0.2870342548076923\n"
     ]
    },
    {
     "name": "stderr",
     "output_type": "stream",
     "text": [
      " 80%|████████  | 16040/20000 [01:21<00:20, 193.57it/s]"
     ]
    },
    {
     "name": "stdout",
     "output_type": "stream",
     "text": [
      "Control signal: [1.         0.20023939]\n",
      "Left black ratio: 0.2843674879807692\n",
      "Right black ratio: 0.28970102163461536\n",
      "Black diff: 0.005333533653846145\n",
      "Black ratio: 0.2870342548076923\n"
     ]
    },
    {
     "name": "stderr",
     "output_type": "stream",
     "text": [
      " 83%|████████▎ | 16535/20000 [01:24<00:18, 182.60it/s]"
     ]
    },
    {
     "name": "stdout",
     "output_type": "stream",
     "text": [
      "Control signal: [1.        0.2001418]\n",
      "Left black ratio: 0.2843674879807692\n",
      "Right black ratio: 0.28970102163461536\n",
      "Black diff: 0.005333533653846145\n",
      "Black ratio: 0.2870342548076923\n"
     ]
    },
    {
     "name": "stderr",
     "output_type": "stream",
     "text": [
      " 85%|████████▌ | 17028/20000 [01:26<00:12, 230.74it/s]"
     ]
    },
    {
     "name": "stdout",
     "output_type": "stream",
     "text": [
      "Control signal: [0.2 1. ]\n",
      "Left black ratio: 0.2843674879807692\n",
      "Right black ratio: 0.28970102163461536\n",
      "Black diff: 0.005333533653846145\n",
      "Black ratio: 0.2870342548076923\n"
     ]
    },
    {
     "name": "stderr",
     "output_type": "stream",
     "text": [
      " 88%|████████▊ | 17534/20000 [01:28<00:11, 214.65it/s]"
     ]
    },
    {
     "name": "stdout",
     "output_type": "stream",
     "text": [
      "Control signal: [0.2 1. ]\n",
      "Left black ratio: 0.2843674879807692\n",
      "Right black ratio: 0.28970102163461536\n",
      "Black diff: 0.005333533653846145\n",
      "Black ratio: 0.2870342548076923\n"
     ]
    },
    {
     "name": "stderr",
     "output_type": "stream",
     "text": [
      " 90%|█████████ | 18012/20000 [01:31<00:10, 197.89it/s]\n"
     ]
    },
    {
     "name": "stdout",
     "output_type": "stream",
     "text": [
      "Control signal: [0.2 1. ]\n",
      "Left black ratio: 0.2843674879807692\n",
      "Right black ratio: 0.28970102163461536\n",
      "Black diff: 0.005333533653846145\n",
      "Black ratio: 0.2870342548076923\n",
      "Target reached. Simulation terminated.\n"
     ]
    }
   ],
   "source": [
    "from pathlib import Path\n",
    "from submission import Controller\n",
    "from cobar_miniproject.cobar_fly import CobarFly\n",
    "from cobar_miniproject import levels\n",
    "from flygym import SingleFlySimulation, Camera\n",
    "from tqdm import trange\n",
    "\n",
    "timestep = 1e-4\n",
    "debug = False\n",
    "level = 2\n",
    "seed = 45\n",
    "\n",
    "fly = CobarFly(\n",
    "    debug=debug,\n",
    "    enable_vision=True,\n",
    "    render_raw_vision=True,\n",
    ")\n",
    "\n",
    "if level <= 1:\n",
    "    arena = levels[level](fly=fly, seed=seed)\n",
    "else:\n",
    "    arena = levels[level](fly=fly, timestep=timestep, seed=seed)\n",
    "\n",
    "cam_params = {\"pos\": (0, 0, 80)}\n",
    "timestep = 1e-4\n",
    "\n",
    "cam = Camera(\n",
    "    attachment_point=arena.root_element.worldbody,\n",
    "    camera_name=\"camera_top_zoomout\",\n",
    "    targeted_fly_names=[fly.name],\n",
    "    camera_parameters=cam_params,\n",
    "    play_speed=0.2,\n",
    ")\n",
    "\n",
    "sim = SingleFlySimulation(\n",
    "    fly=fly,\n",
    "    cameras=[cam],\n",
    "    timestep=timestep,\n",
    "    arena=arena,\n",
    ")\n",
    "\n",
    "controller = Controller(timestep=timestep)\n",
    "\n",
    "# run cpg simulation\n",
    "obs, info = sim.reset()\n",
    "\n",
    "max_steps = 20000\n",
    "\n",
    "for i in trange(max_steps):\n",
    "    # Get observations\n",
    "    obs, reward, terminated, truncated, info = sim.step(controller.get_actions(obs))\n",
    "    sim.render()\n",
    "    if controller.done_level(obs):\n",
    "        # finish the path integration level\n",
    "        break\n",
    "\n",
    "    if not obs[\"vision_updated\"]:\n",
    "        if \"vision\" in obs:\n",
    "            del obs[\"vision\"]\n",
    "        if \"raw_vision\" in obs:\n",
    "            del obs[\"raw_vision\"]\n",
    "\n",
    "    if hasattr(controller, \"quit\") and controller.quit:\n",
    "        print(\"Simulation terminated by user.\")\n",
    "        break\n",
    "    if hasattr(arena, \"quit\") and arena.quit:\n",
    "        print(\"Target reached. Simulation terminated.\")\n",
    "        break\n",
    "\n",
    "# Save video\n",
    "save_path = Path(\"outputs\") / f\"level{level}_seed{seed}.mp4\"\n",
    "save_path.parent.mkdir(parents=True, exist_ok=True)\n",
    "cam.save_video(save_path, stabilization_time=0)\n",
    "\n"
   ]
  }
 ],
 "metadata": {
  "kernelspec": {
   "display_name": "flygym",
   "language": "python",
   "name": "python3"
  },
  "language_info": {
   "codemirror_mode": {
    "name": "ipython",
    "version": 3
   },
   "file_extension": ".py",
   "mimetype": "text/x-python",
   "name": "python",
   "nbconvert_exporter": "python",
   "pygments_lexer": "ipython3",
   "version": "3.12.9"
  }
 },
 "nbformat": 4,
 "nbformat_minor": 2
}
